{
  "cells": [
    {
      "cell_type": "markdown",
      "metadata": {
        "id": "view-in-github",
        "colab_type": "text"
      },
      "source": [
        "<a href=\"https://colab.research.google.com/github/DorMm1/Ono-Image-Processing/blob/master/Copy_of_Lesson_01.ipynb\" target=\"_parent\"><img src=\"https://colab.research.google.com/assets/colab-badge.svg\" alt=\"Open In Colab\"/></a>"
      ]
    },
    {
      "cell_type": "markdown",
      "metadata": {
        "id": "Vl5SOB9VhI7R"
      },
      "source": [
        "# Introduction\n"
      ]
    },
    {
      "cell_type": "markdown",
      "metadata": {
        "id": "paE5v_ZRhI7W"
      },
      "source": [
        "### Student Name ID and Mobile Phone (Keep the format)"
      ]
    },
    {
      "cell_type": "markdown",
      "source": [
        "[Submission form link](https://forms.gle/1EgLcveXvqHcHPaL7)"
      ],
      "metadata": {
        "id": "DtZshcPK2Eb6"
      }
    },
    {
      "cell_type": "code",
      "execution_count": null,
      "metadata": {
        "tags": [],
        "id": "AWgj8cSGhI7W"
      },
      "outputs": [],
      "source": [
        "StudentName = 'Dor Menahem'\n",
        "StudentID = '318687746'\n",
        "StudentMobile = '052-8028427'"
      ]
    },
    {
      "cell_type": "code",
      "source": [
        "from google.colab import drive\n",
        "drive.mount('/gdrive')"
      ],
      "metadata": {
        "colab": {
          "base_uri": "https://localhost:8080/"
        },
        "id": "xhY4RDLsySxg",
        "outputId": "05168d89-5b2c-4f1f-9303-50dfa9acfb0b"
      },
      "execution_count": null,
      "outputs": [
        {
          "output_type": "stream",
          "name": "stdout",
          "text": [
            "Mounted at /gdrive\n"
          ]
        }
      ]
    },
    {
      "cell_type": "markdown",
      "metadata": {
        "id": "lyXvlbq8hI7Y"
      },
      "source": [
        "---\n",
        "### Setting the working directory\n",
        "Depending on where you're running your code, whether it's on the Google Colab cloud or your local PC, the process of changing the working directory can differ.\n",
        "\n",
        "* **Running on Google Colab**: If you're executing your code in the Google Colab environment, you might need to access files stored on your Google Drive. Before changing the working directory, make sure you've mounted your Google Drive to access paths within it.\n",
        "* **Changing Working Directory on Local PC**: If you're running your code on your local PC, you can use the os module in Python to change the working directory. Remember that the directory path you provide should be accurate and accessible on your local PC. The r before the string is used for handling backslashes in Windows paths."
      ]
    },
    {
      "cell_type": "code",
      "execution_count": null,
      "metadata": {
        "tags": [],
        "id": "NrEWrvjJhI7Z"
      },
      "outputs": [],
      "source": [
        "import os\n",
        "try:\n",
        "    from google.colab import drive\n",
        "    drive.mount('/gdrive')\n",
        "    print(\"Running in Google Colab environment\")\n",
        "    # Define the target directory path\n",
        "    target_directory = \"/gdrive/MyDrive/MyOnoFiles\"\n",
        "\n",
        "    # Change the working directory\n",
        "    os.chdir(target_directory)\n",
        "\n",
        "    # Verify the current working directory\n",
        "    print(\"Current Google Colab environment working directory:\\n\", os.getcwd())\n",
        "\n",
        "\n",
        "except ImportError:\n",
        "    print(\"Running inyour local PC environment\")\n",
        "    # Specify the desired directory path\n",
        "    new_directory = r\"C:\\Users\\gal-t\\OneDrive - post.bgu.ac.il\\Ofer Hadar\\הוראה\\עיבוד תמונה\\Books\\Python Image Processing Cookbook\\Python-Image-Processing-Cookbook-master\\Chapter 01\"\n",
        "\n",
        "    # Change the working directory\n",
        "    os.chdir(new_directory)\n",
        "\n",
        "    # Verify the current working directory\n",
        "    print(\"Current PC working directory:\\n\", os.getcwd())\n"
      ]
    },
    {
      "cell_type": "markdown",
      "source": [
        "<hr style=\"border: 2px solid blue;\">\n",
        "<div dir=\"rtl\">\n",
        "הטקסט של מחברת של גוגל קולאב כתוב בפורמט שנקרא MARKDOWN.<br>\n",
        "כדי לכתוב טקסט בעברית ב-Markdown בתוך תא של מחברת גוגל קולאב יש להשתמש בתגיות מיוחדות:\n",
        "\n",
        "\n",
        "אם תערכו תא זה תראו כיצד ניתן לערוך טקסט בעברית בתוך תא של מחברת.\n",
        "<h1> כותרת בעברית</h1>\n",
        "\n",
        "<strong>טקסט מודגש בעברית</strong>\n",
        "\n",
        "<ol>\n",
        "<li>שורה ממוספרת ראשונה</li>\n",
        "<li>שורה ממוספרת שנייה</li>\n",
        "</ol>\n",
        "\n",
        "<ul>\n",
        "<li>נקודת עניין ראשונה</li>  \n",
        "<li>נקודת עניין שנייה</li>\n",
        "</ul>\n",
        "<hr style=\"border: 2px solid blue;\">\n",
        "שימו לב לקו הפרדה שניתן לייצר\n",
        "<hr style=\"border: 2px solid blue;\">\n",
        "טקסט רגיל בעברית<br>\n",
        "יש פה דוגמא כיצד מתחילים שורה חדשה\n",
        "\n",
        "</div>"
      ],
      "metadata": {
        "id": "oyqKtaPUeI_O"
      }
    },
    {
      "cell_type": "markdown",
      "metadata": {
        "id": "GBkjsbNGhI7b"
      },
      "source": [
        "**Lets start the lesson....**\n",
        "\n",
        "\n",
        "---\n",
        "\n"
      ]
    }
  ],
  "metadata": {
    "kernelspec": {
      "display_name": "Python 3 (ipykernel)",
      "language": "python",
      "name": "python3"
    },
    "language_info": {
      "codemirror_mode": {
        "name": "ipython",
        "version": 3
      },
      "file_extension": ".py",
      "mimetype": "text/x-python",
      "name": "python",
      "nbconvert_exporter": "python",
      "pygments_lexer": "ipython3",
      "version": "3.8.16"
    },
    "colab": {
      "provenance": [],
      "include_colab_link": true
    }
  },
  "nbformat": 4,
  "nbformat_minor": 0
}