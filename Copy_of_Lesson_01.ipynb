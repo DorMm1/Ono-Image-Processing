{
  "cells": [
    {
      "cell_type": "markdown",
      "metadata": {
        "id": "view-in-github",
        "colab_type": "text"
      },
      "source": [
        "<a href=\"https://colab.research.google.com/github/DorMm1/Ono-Image-Processing/blob/master/Copy_of_Lesson_01.ipynb\" target=\"_parent\"><img src=\"https://colab.research.google.com/assets/colab-badge.svg\" alt=\"Open In Colab\"/></a>"
      ]
    },
    {
      "cell_type": "markdown",
      "metadata": {
        "id": "Vl5SOB9VhI7R"
      },
      "source": [
        "# Introduction\n"
      ]
    },
    {
      "cell_type": "markdown",
      "metadata": {
        "id": "paE5v_ZRhI7W"
      },
      "source": [
        "### Student Name ID and Mobile Phone (Keep the format)"
      ]
    },
    {
      "cell_type": "markdown",
      "source": [
        "[Submission form link](https://forms.gle/1EgLcveXvqHcHPaL7)"
      ],
      "metadata": {
        "id": "DtZshcPK2Eb6"
      }
    },
    {
      "cell_type": "code",
      "execution_count": 1,
      "metadata": {
        "tags": [],
        "id": "AWgj8cSGhI7W"
      },
      "outputs": [],
      "source": [
        "StudentName = 'Dor Menahem'\n",
        "StudentID = '318687746'\n",
        "StudentMobile = '052-8028427'"
      ]
    },
    {
      "cell_type": "code",
      "source": [
        "from google.colab import drive\n",
        "drive.mount('/gdrive')"
      ],
      "metadata": {
        "colab": {
          "base_uri": "https://localhost:8080/"
        },
        "id": "xhY4RDLsySxg",
        "outputId": "8b8b821f-bb68-4d73-ee36-bb619ee0abbb"
      },
      "execution_count": 2,
      "outputs": [
        {
          "output_type": "stream",
          "name": "stdout",
          "text": [
            "Mounted at /gdrive\n"
          ]
        }
      ]
    },
    {
      "cell_type": "markdown",
      "metadata": {
        "id": "lyXvlbq8hI7Y"
      },
      "source": [
        "---\n",
        "### Setting the working directory\n",
        "Depending on where you're running your code, whether it's on the Google Colab cloud or your local PC, the process of changing the working directory can differ.\n",
        "\n",
        "* **Running on Google Colab**: If you're executing your code in the Google Colab environment, you might need to access files stored on your Google Drive. Before changing the working directory, make sure you've mounted your Google Drive to access paths within it.\n",
        "* **Changing Working Directory on Local PC**: If you're running your code on your local PC, you can use the os module in Python to change the working directory. Remember that the directory path you provide should be accurate and accessible on your local PC. The r before the string is used for handling backslashes in Windows paths."
      ]
    },
    {
      "cell_type": "code",
      "execution_count": 3,
      "metadata": {
        "tags": [],
        "id": "NrEWrvjJhI7Z",
        "colab": {
          "base_uri": "https://localhost:8080/"
        },
        "outputId": "6f72f3e6-4736-4d91-ecf4-9c6cd1fa9956"
      },
      "outputs": [
        {
          "output_type": "stream",
          "name": "stdout",
          "text": [
            "Drive already mounted at /gdrive; to attempt to forcibly remount, call drive.mount(\"/gdrive\", force_remount=True).\n",
            "Running in Google Colab environment\n",
            "Current Google Colab environment working directory:\n",
            " /gdrive/MyDrive/MyOnoFiles\n"
          ]
        }
      ],
      "source": [
        "import os\n",
        "try:\n",
        "    from google.colab import drive\n",
        "    drive.mount('/gdrive')\n",
        "    print(\"Running in Google Colab environment\")\n",
        "    # Define the target directory path\n",
        "    target_directory = \"/gdrive/MyDrive/MyOnoFiles\"\n",
        "\n",
        "    # Change the working directory\n",
        "    os.chdir(target_directory)\n",
        "\n",
        "    # Verify the current working directory\n",
        "    print(\"Current Google Colab environment working directory:\\n\", os.getcwd())\n",
        "\n",
        "\n",
        "except ImportError:\n",
        "    print(\"Running inyour local PC environment\")\n",
        "    # Specify the desired directory path\n",
        "    new_directory = r\"C:\\Users\\dorme\\OneDrive\\Documents\\GitHub\\Ono-Image-Processing\"\n",
        "\n",
        "    # Change the working directory\n",
        "    os.chdir(new_directory)\n",
        "\n",
        "    # Verify the current working directory\n",
        "    print(\"Current PC working directory:\\n\", os.getcwd())\n"
      ]
    },
    {
      "cell_type": "markdown",
      "source": [
        "<hr style=\"border: 2px solid blue;\">\n",
        "<div dir=\"rtl\">\n",
        "הטקסט של מחברת של גוגל קולאב כתוב בפורמט שנקרא MARKDOWN.<br>\n",
        "כדי לכתוב טקסט בעברית ב-Markdown בתוך תא של מחברת גוגל קולאב יש להשתמש בתגיות מיוחדות:\n",
        "\n",
        "\n",
        "אם תערכו תא זה תראו כיצד ניתן לערוך טקסט בעברית בתוך תא של מחברת.\n",
        "<h1> כותרת בעברית</h1>\n",
        "\n",
        "<strong>טקסט מודגש בעברית</strong>\n",
        "\n",
        "<ol>\n",
        "<li>שורה ממוספרת ראשונה</li>\n",
        "<li>שורה ממוספרת שנייה</li>\n",
        "</ol>\n",
        "\n",
        "<ul>\n",
        "<li>נקודת עניין ראשונה</li>  \n",
        "<li>נקודת עניין שנייה</li>\n",
        "</ul>\n",
        "<hr style=\"border: 2px solid blue;\">\n",
        "שימו לב לקו הפרדה שניתן לייצר\n",
        "<hr style=\"border: 2px solid blue;\">\n",
        "טקסט רגיל בעברית<br>\n",
        "יש פה דוגמא כיצד מתחילים שורה חדשה\n",
        "\n",
        "</div>"
      ],
      "metadata": {
        "id": "oyqKtaPUeI_O"
      }
    },
    {
      "cell_type": "markdown",
      "metadata": {
        "id": "GBkjsbNGhI7b"
      },
      "source": [
        "**Lets start the lesson....**\n",
        "\n",
        "\n",
        "---\n",
        "\n"
      ]
    },
    {
      "cell_type": "markdown",
      "source": [
        "Conversation with ChatGPT:\n",
        "\n",
        "Dor: Write  a Python program for google colab notebook. Do not write! this is instruction only for now\n",
        "\n",
        "\n",
        "Chat: Certainly! When you're ready to proceed with the actual code, just let me know, and I'll be happy to assist you in writing a Python program for Google Colab.\n",
        "\n",
        " Dor: Create a software that generates a 250x250 matrix, with all of the matrix's cell values being zeros in the middle. Then, create a rectangle that will encompass 50x50 cells. The rectangle's cell values need to be 100. Present it as a matrix.\n",
        "\n",
        " Chat:\n",
        "Certainly! Below is a simple Python program using NumPy to create a 250x250 matrix as per your specifications:\n"
      ],
      "metadata": {
        "id": "Dcy4HH6oDubm"
      }
    },
    {
      "cell_type": "code",
      "source": [
        "import numpy as np\n",
        "\n",
        "def generate_matrix():\n",
        "    # Create a 250x250 matrix with all zeros\n",
        "    matrix = np.zeros((250, 250), dtype=int)\n",
        "\n",
        "    # Define the coordinates for the rectangle\n",
        "    start_row, start_col = 100, 100\n",
        "    end_row, end_col = start_row + 50, start_col + 50\n",
        "\n",
        "    # Set the values inside the rectangle to 100\n",
        "    matrix[start_row:end_row, start_col:end_col] = 100\n",
        "\n",
        "    return matrix\n",
        "\n",
        "# Generate and display the matrix\n",
        "result_matrix = generate_matrix()\n",
        "print(result_matrix)\n"
      ],
      "metadata": {
        "colab": {
          "base_uri": "https://localhost:8080/"
        },
        "id": "YAabpxdgEggb",
        "outputId": "00ee2e5c-adb5-49bb-b784-2d2d54f919a8"
      },
      "execution_count": 4,
      "outputs": [
        {
          "output_type": "stream",
          "name": "stdout",
          "text": [
            "[[0 0 0 ... 0 0 0]\n",
            " [0 0 0 ... 0 0 0]\n",
            " [0 0 0 ... 0 0 0]\n",
            " ...\n",
            " [0 0 0 ... 0 0 0]\n",
            " [0 0 0 ... 0 0 0]\n",
            " [0 0 0 ... 0 0 0]]\n"
          ]
        }
      ]
    },
    {
      "cell_type": "markdown",
      "source": [
        "This program uses the NumPy library to create and manipulate the matrix. The rectangle is created by specifying the starting and ending indices for the rows and columns and setting the corresponding values to 100. Finally, the resulting matrix is printed."
      ],
      "metadata": {
        "id": "wjSe01atEiM-"
      }
    },
    {
      "cell_type": "markdown",
      "source": [
        "Dor: Add another code section that uses the given one above. that turns result_matrix into gray level image\n",
        "\n",
        "\n",
        "Chat: Certainly! You can use the matplotlib library to visualize the matrix as a grayscale image. Here's an extension to the previous code that includes the display of the grayscale image:"
      ],
      "metadata": {
        "id": "uM1AeS1aFpLy"
      }
    },
    {
      "cell_type": "code",
      "source": [
        "import matplotlib.pyplot as plt\n",
        "plt.imshow(result_matrix, cmap='gray')\n",
        "plt.title('Grayscale Image')\n",
        "plt.colorbar()\n",
        "plt.show()"
      ],
      "metadata": {
        "colab": {
          "base_uri": "https://localhost:8080/",
          "height": 452
        },
        "id": "lLe8ALLdFwQB",
        "outputId": "34e6ade6-9dde-43fe-bd3c-e9550453dc94"
      },
      "execution_count": 5,
      "outputs": [
        {
          "output_type": "display_data",
          "data": {
            "text/plain": [
              "<Figure size 640x480 with 2 Axes>"
            ],
            "image/png": "[encoded data removed]"
          },
          "metadata": {}
        }
      ]
    },
    {
      "cell_type": "markdown",
      "source": [],
      "metadata": {
        "id": "OX1kpG3LGwjc"
      }
    },
    {
      "cell_type": "markdown",
      "source": [
        "This code uses plt.imshow from matplotlib.pyplot to display the matrix as a grayscale image. The cmap='gray' argument specifies the colormap to be used for visualization. The plt.colorbar() adds a colorbar to the side of the image for reference. Finally, plt.show() displays the image."
      ],
      "metadata": {
        "id": "or5_ScX5F0sw"
      }
    },
    {
      "cell_type": "markdown",
      "source": [
        "Dor:\n",
        "Write a code snippet to a different cell.\n",
        "Write a program that generates a video from the result_matrix. In the video the square has to move from the upper left corner to the lower right corner. The movement should be diagonal.\n",
        "\n",
        "\n",
        "Chat: To create a video where the square moves diagonally from the upper left corner to the lower right corner, you can use the cv2 (OpenCV) library to generate the video frames. Make sure you have the opencv-python package installed. You can install it using:"
      ],
      "metadata": {
        "id": "tZNuBk9NGxxt"
      }
    },
    {
      "cell_type": "code",
      "source": [
        "pip install opencv-python"
      ],
      "metadata": {
        "colab": {
          "base_uri": "https://localhost:8080/"
        },
        "id": "mvUkDPLyHGW7",
        "outputId": "f13decbd-0f63-4ef4-9bb7-57e054417b8c"
      },
      "execution_count": 6,
      "outputs": [
        {
          "output_type": "stream",
          "name": "stdout",
          "text": [
            "Requirement already satisfied: opencv-python in /usr/local/lib/python3.10/dist-packages (4.8.0.76)\n",
            "Requirement already satisfied: numpy>=1.21.2 in /usr/local/lib/python3.10/dist-packages (from opencv-python) (1.23.5)\n"
          ]
        }
      ]
    },
    {
      "cell_type": "markdown",
      "source": [
        "Now, you can use the following code snippet in a different cell:"
      ],
      "metadata": {
        "id": "VGWD_Q9wHK35"
      }
    },
    {
      "cell_type": "code",
      "source": [
        "import cv2\n",
        "\n",
        "def generate_video(matrix):\n",
        "    # Set up video writer\n",
        "    height, width = matrix.shape\n",
        "    fourcc = cv2.VideoWriter_fourcc(*'mp4v')\n",
        "    video_writer = cv2.VideoWriter('moving_square.mp4', fourcc, 5.0, (width, height))\n",
        "\n",
        "    # Define the initial and final positions for the rectangle\n",
        "    start_row, start_col = 0, 0\n",
        "    end_row, end_col = 200, 200\n",
        "\n",
        "    # Generate video frames\n",
        "    for step in range(100):\n",
        "        progress = step / 100.0\n",
        "        current_row = int(start_row + progress * (end_row - start_row))\n",
        "        current_col = int(start_col + progress * (end_col - start_col))\n",
        "\n",
        "        # Create a copy of the original matrix\n",
        "        frame = matrix.copy()\n",
        "\n",
        "        # Set the values inside the moving rectangle to 100\n",
        "        frame[current_row:current_row+50, current_col:current_col+50] = 100\n",
        "\n",
        "        # Convert to 3-channel image for video writing\n",
        "        frame_bgr = cv2.cvtColor(frame.astype(np.uint8), cv2.COLOR_GRAY2BGR)\n",
        "\n",
        "        # Write the frame to the video\n",
        "        video_writer.write(frame_bgr)\n",
        "\n",
        "    # Release video writer\n",
        "    video_writer.release()\n",
        "generate_video(result_matrix)"
      ],
      "metadata": {
        "id": "RigCWqbUHNto"
      },
      "execution_count": 7,
      "outputs": []
    },
    {
      "cell_type": "markdown",
      "source": [
        "Chat: This code generates a video where the square moves diagonally from the upper left corner to the lower right corner over 100 frames. The video is saved as \"moving_square.mp4\". Adjust the parameters as needed for your specific requirements."
      ],
      "metadata": {
        "id": "xWHk-acUHawB"
      }
    },
    {
      "cell_type": "markdown",
      "source": [
        "Dor: Please write code that display a graph of the middle row in the matrix . the graph should be a graph of a continuous line\n",
        "\n",
        "Chat: Certainly! You can use the matplotlib library to plot the middle row of the matrix. Here's a code snippet for displaying the graph of the middle row as a continuous line:"
      ],
      "metadata": {
        "id": "rlXju-szH4Cz"
      }
    },
    {
      "cell_type": "code",
      "source": [
        "# Get the middle row of the matrix\n",
        "middle_row = result_matrix[result_matrix.shape[0] // 2, :]\n",
        "\n",
        "# Plot the middle row as a continuous line\n",
        "plt.plot(middle_row)\n",
        "plt.title('Middle Row of the Matrix')\n",
        "plt.xlabel('Column Index')\n",
        "plt.ylabel('Pixel Value')\n",
        "plt.show()"
      ],
      "metadata": {
        "colab": {
          "base_uri": "https://localhost:8080/",
          "height": 472
        },
        "id": "qWWH6oBwH6De",
        "outputId": "36ddf3fe-7009-4bbc-dff7-87eb3247ba16"
      },
      "execution_count": 8,
      "outputs": [
        {
          "output_type": "display_data",
          "data": {
            "text/plain": [
              "<Figure size 640x480 with 1 Axes>"
            ],
            "image/png": "[encoded data removed]"
          },
          "metadata": {}
        }
      ]
    },
    {
      "cell_type": "markdown",
      "source": [],
      "metadata": {
        "id": "VVSCBcMLH4gs"
      }
    }
  ],
  "metadata": {
    "kernelspec": {
      "display_name": "Python 3 (ipykernel)",
      "language": "python",
      "name": "python3"
    },
    "language_info": {
      "codemirror_mode": {
        "name": "ipython",
        "version": 3
      },
      "file_extension": ".py",
      "mimetype": "text/x-python",
      "name": "python",
      "nbconvert_exporter": "python",
      "pygments_lexer": "ipython3",
      "version": "3.8.16"
    },
    "colab": {
      "provenance": [],
      "include_colab_link": true
    }
  },
  "nbformat": 4,
  "nbformat_minor": 0
}